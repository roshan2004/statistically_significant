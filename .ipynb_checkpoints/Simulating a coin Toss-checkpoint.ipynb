{
 "cells": [
  {
   "cell_type": "markdown",
   "metadata": {},
   "source": [
    "### SImulate the tossing of a coin for 10 times\n",
    "### Record the number of heads in each toss\n",
    "### Perform the same experiment of tossing coin 10 times for a large number of time\n",
    "### Show the probability distribution  \n",
    "<img src = \"https://akm-img-a-in.tosshub.com/indiatoday/images/story/201904/GettyImages-120615540_0.jpeg?1.tCnx7zdVspcKBaqugXnbFOD8.KCrr4\" height = 300 width = 300>"
   ]
  },
  {
   "cell_type": "code",
   "execution_count": null,
   "metadata": {},
   "outputs": [],
   "source": []
  }
 ],
 "metadata": {
  "kernelspec": {
   "display_name": "Python 3.7.4 64-bit ('base': conda)",
   "language": "python",
   "name": "python37464bitbaseconda1eb60c76e02b4ba9a2a4c9ec9b1fa267"
  },
  "language_info": {
   "codemirror_mode": {
    "name": "ipython",
    "version": 3
   },
   "file_extension": ".py",
   "mimetype": "text/x-python",
   "name": "python",
   "nbconvert_exporter": "python",
   "pygments_lexer": "ipython3",
   "version": "3.7.4"
  }
 },
 "nbformat": 4,
 "nbformat_minor": 4
}
